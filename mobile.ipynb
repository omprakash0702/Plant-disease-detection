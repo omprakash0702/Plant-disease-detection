{
 "cells": [
  {
   "cell_type": "code",
   "execution_count": 1,
   "id": "58bfc34f-8f20-409f-a969-ad5ad28ac40e",
   "metadata": {},
   "outputs": [],
   "source": [
    "import os\n",
    "from tensorflow.keras.applications import MobileNet\n",
    "from tensorflow.keras.preprocessing import image\n",
    "from tensorflow.keras.applications.mobilenet import preprocess_input\n",
    "from tensorflow.keras.layers import GlobalAveragePooling2D, Dense\n",
    "from tensorflow.keras.models import Model\n",
    "from sklearn.metrics import accuracy_score, precision_score, f1_score, roc_auc_score\n",
    "import matplotlib.pyplot as plt\n",
    "import numpy as np\n"
   ]
  },
  {
   "cell_type": "code",
   "execution_count": 2,
   "id": "07e0d393-58aa-47b4-9c4b-e66868590181",
   "metadata": {},
   "outputs": [],
   "source": [
    "\n",
    "# Function to load images and labels from folder\n",
    "def load_images_and_labels(folder, target_size=(224, 224)):\n",
    "    images = []\n",
    "    labels = []\n",
    "    for subfolder in os.listdir(folder):\n",
    "        subfolder_path = os.path.join(folder, subfolder)\n",
    "        label = subfolder\n",
    "        for filename in os.listdir(subfolder_path):\n",
    "            image_path = os.path.join(subfolder_path, filename)\n",
    "            try:\n",
    "                img = image.load_img(image_path, target_size=target_size)\n",
    "                img_array = image.img_to_array(img)\n",
    "                img_array = preprocess_input(img_array)\n",
    "                images.append(img_array)\n",
    "                labels.append(label)\n",
    "            except Exception as e:\n",
    "                print(f\"Error loading image: {image_path} - {str(e)}\")\n",
    "    return np.array(images), np.array(labels)\n"
   ]
  },
  {
   "cell_type": "code",
   "execution_count": 3,
   "id": "0394e752-bb24-4629-9a47-2a349a5e8ec0",
   "metadata": {},
   "outputs": [],
   "source": [
    "# Folder paths\n",
    "train_folder = 'C:/Users/KIIT/Downloads/Cashew/Cashew/train'\n",
    "test_folder ='C:/Users/KIIT/Downloads/Cashew/Cashew/test'\n",
    "val_folder ='C:/Users/KIIT/Downloads/Cashew/Cashew/val'"
   ]
  },
  {
   "cell_type": "code",
   "execution_count": 4,
   "id": "46b5c42d-8df3-4b96-8466-67536e2e6359",
   "metadata": {},
   "outputs": [],
   "source": [
    "\n",
    "# Load images and labels for training, testing, and validation\n",
    "X_train, y_train = load_images_and_labels(train_folder)\n",
    "X_test, y_test = load_images_and_labels(test_folder)\n",
    "X_val, y_val = load_images_and_labels(val_folder)\n"
   ]
  },
  {
   "cell_type": "code",
   "execution_count": 5,
   "id": "0104a423-2e14-49cc-9ea2-38af87d679dd",
   "metadata": {},
   "outputs": [
    {
     "name": "stderr",
     "output_type": "stream",
     "text": [
      "C:\\Users\\KIIT\\AppData\\Local\\Temp\\ipykernel_5776\\2865956719.py:2: UserWarning: `input_shape` is undefined or non-square, or `rows` is not in [128, 160, 192, 224]. Weights for input shape (224, 224) will be loaded as the default.\n",
      "  base_model = MobileNet(weights='imagenet', include_top=False)\n"
     ]
    }
   ],
   "source": [
    "# Load MobileNet model\n",
    "base_model = MobileNet(weights='imagenet', include_top=False)\n",
    "x = base_model.output\n",
    "x = GlobalAveragePooling2D()(x)\n",
    "x = Dense(1024, activation='relu')(x)\n",
    "predictions = Dense(len(set(y_train)), activation='softmax')(x)\n",
    "model = Model(inputs=base_model.input, outputs=predictions)\n"
   ]
  },
  {
   "cell_type": "code",
   "execution_count": 6,
   "id": "9f7d6d04-780b-49ef-968f-da3a694116bb",
   "metadata": {},
   "outputs": [
    {
     "name": "stdout",
     "output_type": "stream",
     "text": [
      "Epoch 1/10\n",
      "\u001b[1m201/201\u001b[0m \u001b[32m━━━━━━━━━━━━━━━━━━━━\u001b[0m\u001b[37m\u001b[0m \u001b[1m120s\u001b[0m 569ms/step - accuracy: 0.7897 - loss: 0.7477 - val_accuracy: 0.9240 - val_loss: 0.2199\n",
      "Epoch 2/10\n",
      "\u001b[1m201/201\u001b[0m \u001b[32m━━━━━━━━━━━━━━━━━━━━\u001b[0m\u001b[37m\u001b[0m \u001b[1m112s\u001b[0m 556ms/step - accuracy: 0.9347 - loss: 0.1858 - val_accuracy: 0.9402 - val_loss: 0.1664\n",
      "Epoch 3/10\n",
      "\u001b[1m201/201\u001b[0m \u001b[32m━━━━━━━━━━━━━━━━━━━━\u001b[0m\u001b[37m\u001b[0m \u001b[1m106s\u001b[0m 530ms/step - accuracy: 0.9564 - loss: 0.1292 - val_accuracy: 0.9427 - val_loss: 0.1646\n",
      "Epoch 4/10\n",
      "\u001b[1m201/201\u001b[0m \u001b[32m━━━━━━━━━━━━━━━━━━━━\u001b[0m\u001b[37m\u001b[0m \u001b[1m111s\u001b[0m 552ms/step - accuracy: 0.9581 - loss: 0.1145 - val_accuracy: 0.8904 - val_loss: 0.3101\n",
      "Epoch 5/10\n",
      "\u001b[1m201/201\u001b[0m \u001b[32m━━━━━━━━━━━━━━━━━━━━\u001b[0m\u001b[37m\u001b[0m \u001b[1m107s\u001b[0m 530ms/step - accuracy: 0.9696 - loss: 0.0899 - val_accuracy: 0.9278 - val_loss: 0.2153\n",
      "Epoch 6/10\n",
      "\u001b[1m201/201\u001b[0m \u001b[32m━━━━━━━━━━━━━━━━━━━━\u001b[0m\u001b[37m\u001b[0m \u001b[1m104s\u001b[0m 519ms/step - accuracy: 0.9746 - loss: 0.0740 - val_accuracy: 0.9477 - val_loss: 0.1604\n",
      "Epoch 7/10\n",
      "\u001b[1m201/201\u001b[0m \u001b[32m━━━━━━━━━━━━━━━━━━━━\u001b[0m\u001b[37m\u001b[0m \u001b[1m111s\u001b[0m 552ms/step - accuracy: 0.9875 - loss: 0.0364 - val_accuracy: 0.9278 - val_loss: 0.2130\n",
      "Epoch 8/10\n",
      "\u001b[1m201/201\u001b[0m \u001b[32m━━━━━━━━━━━━━━━━━━━━\u001b[0m\u001b[37m\u001b[0m \u001b[1m113s\u001b[0m 560ms/step - accuracy: 0.9916 - loss: 0.0289 - val_accuracy: 0.9564 - val_loss: 0.1668\n",
      "Epoch 9/10\n",
      "\u001b[1m201/201\u001b[0m \u001b[32m━━━━━━━━━━━━━━━━━━━━\u001b[0m\u001b[37m\u001b[0m \u001b[1m112s\u001b[0m 557ms/step - accuracy: 0.9942 - loss: 0.0196 - val_accuracy: 0.9539 - val_loss: 0.1935\n",
      "Epoch 10/10\n",
      "\u001b[1m201/201\u001b[0m \u001b[32m━━━━━━━━━━━━━━━━━━━━\u001b[0m\u001b[37m\u001b[0m \u001b[1m109s\u001b[0m 543ms/step - accuracy: 0.9991 - loss: 0.0097 - val_accuracy: 0.9489 - val_loss: 0.1955\n"
     ]
    },
    {
     "data": {
      "text/plain": [
       "<keras.src.callbacks.history.History at 0x1659b5d53d0>"
      ]
     },
     "execution_count": 6,
     "metadata": {},
     "output_type": "execute_result"
    }
   ],
   "source": [
    "from sklearn.preprocessing import LabelEncoder\n",
    "\n",
    "\n",
    "# Convert string labels to integer labels\n",
    "label_encoder = LabelEncoder()\n",
    "y_train = label_encoder.fit_transform(y_train)\n",
    "y_test = label_encoder.transform(y_test)\n",
    "y_val = label_encoder.transform(y_val)\n",
    "\n",
    "# Freeze all layers in the base model\n",
    "for layer in base_model.layers:\n",
    "    layer.trainable = False\n",
    "\n",
    "# Compile the model\n",
    "model.compile(optimizer='adam', loss='sparse_categorical_crossentropy', metrics=['accuracy'])\n",
    "\n",
    "# Train the model\n",
    "model.fit(X_train, y_train, epochs=10, validation_data=(X_val, y_val))\n"
   ]
  },
  {
   "cell_type": "code",
   "execution_count": 7,
   "id": "54df541a-f4d3-4634-a12f-5bbe88665095",
   "metadata": {},
   "outputs": [
    {
     "name": "stdout",
     "output_type": "stream",
     "text": [
      "\u001b[1m201/201\u001b[0m \u001b[32m━━━━━━━━━━━━━━━━━━━━\u001b[0m\u001b[37m\u001b[0m \u001b[1m98s\u001b[0m 481ms/step\n",
      "\u001b[1m26/26\u001b[0m \u001b[32m━━━━━━━━━━━━━━━━━━━━\u001b[0m\u001b[37m\u001b[0m \u001b[1m12s\u001b[0m 447ms/step\n",
      "\u001b[1m25/25\u001b[0m \u001b[32m━━━━━━━━━━━━━━━━━━━━\u001b[0m\u001b[37m\u001b[0m \u001b[1m12s\u001b[0m 462ms/step\n"
     ]
    }
   ],
   "source": [
    "\n",
    "# Evaluate the model\n",
    "train_pred_probs = model.predict(X_train)\n",
    "train_pred = np.argmax(train_pred_probs, axis=1)\n",
    "train_accuracy = accuracy_score(y_train, train_pred)\n",
    "train_precision = precision_score(y_train, train_pred, average='weighted')\n",
    "train_f1 = f1_score(y_train, train_pred, average='weighted')\n",
    "train_roc_auc = roc_auc_score(y_train, train_pred_probs, multi_class='ovr')\n",
    "\n",
    "val_pred_probs = model.predict(X_val)\n",
    "val_pred = np.argmax(val_pred_probs, axis=1)\n",
    "val_accuracy = accuracy_score(y_val, val_pred)\n",
    "val_precision = precision_score(y_val, val_pred, average='weighted')\n",
    "val_f1 = f1_score(y_val, val_pred, average='weighted')\n",
    "val_roc_auc = roc_auc_score(y_val, val_pred_probs, multi_class='ovr')\n",
    "\n",
    "test_pred_probs = model.predict(X_test)\n",
    "test_pred = np.argmax(test_pred_probs, axis=1)\n",
    "test_accuracy = accuracy_score(y_test, test_pred)\n",
    "test_precision = precision_score(y_test, test_pred, average='weighted')\n",
    "test_f1 = f1_score(y_test, test_pred, average='weighted')\n",
    "test_roc_auc = roc_auc_score(y_test, test_pred_probs, multi_class='ovr')\n"
   ]
  },
  {
   "cell_type": "code",
   "execution_count": 8,
   "id": "74b63ed0-44bd-462c-947d-fdfd4b95be0c",
   "metadata": {},
   "outputs": [],
   "source": [
    "from sklearn.metrics import recall_score\n",
    "\n",
    "train_recall = recall_score(y_train, train_pred, average='weighted')\n",
    "val_recall = recall_score(y_val, val_pred, average='weighted')\n",
    "test_recall = recall_score(y_test, test_pred, average='weighted')\n"
   ]
  },
  {
   "cell_type": "code",
   "execution_count": 9,
   "id": "a7c1e61d-81f2-41ec-b4c2-9abedfa1427c",
   "metadata": {},
   "outputs": [
    {
     "name": "stdout",
     "output_type": "stream",
     "text": [
      "Train data Accuracy: 0.9985941893158388\n",
      "Train data Precision: 0.9986005037823728\n",
      "Train data Recall: 0.9985941893158388\n",
      "Train data F1 Score: 0.998594671807204\n",
      "Train data ROC AUC Score: 0.999999576999167\n",
      "\n",
      "Validation data Accuracy: 0.9489414694894147\n",
      "Validation data Precision: 0.9508897331132391\n",
      "Validation data Recall: 0.9489414694894147\n",
      "Validation data F1 Score: 0.9493813535812528\n",
      "Validation data ROC AUC Score: 0.9943065266138853\n",
      "\n",
      "Test data Accuracy: 0.94375\n",
      "Test data Precision: 0.9460209259311043\n",
      "Test data Recall: 0.94375\n",
      "Test data F1 Score: 0.9440125637497494\n",
      "Test data ROC AUC Score: 0.9912666666666665\n"
     ]
    }
   ],
   "source": [
    "\n",
    "# Print evaluation metrics\n",
    "print(\"Train data Accuracy:\", train_accuracy)\n",
    "print(\"Train data Precision:\", train_precision)\n",
    "print(\"Train data Recall:\", train_recall)\n",
    "print(\"Train data F1 Score:\", train_f1)\n",
    "print(\"Train data ROC AUC Score:\", train_roc_auc)\n",
    "\n",
    "print(\"\\nValidation data Accuracy:\", val_accuracy)\n",
    "print(\"Validation data Precision:\", val_precision)\n",
    "print(\"Validation data Recall:\", val_recall)\n",
    "print(\"Validation data F1 Score:\", val_f1)\n",
    "print(\"Validation data ROC AUC Score:\", val_roc_auc)\n",
    "\n",
    "print(\"\\nTest data Accuracy:\", test_accuracy)\n",
    "print(\"Test data Precision:\", test_precision)\n",
    "print(\"Test data Recall:\", test_recall)\n",
    "print(\"Test data F1 Score:\", test_f1)\n",
    "print(\"Test data ROC AUC Score:\", test_roc_auc)\n",
    "\n"
   ]
  },
  {
   "cell_type": "code",
   "execution_count": 10,
   "id": "97e27882-a1ad-40ac-909b-85d000a8028c",
   "metadata": {},
   "outputs": [
    {
     "name": "stdout",
     "output_type": "stream",
     "text": [
      "Metrics\t\t\tTrain\t\tValidation\tTest\n",
      "Accuracy\t\t0.9986\t\t0.9489\t\t0.9437\n",
      "Precision\t\t0.9986\t\t0.9509\t\t0.9460\n",
      "Recall\t\t\t0.9986\t\t0.9489\t\t0.9437\n",
      "F1 Score\t\t0.9986\t\t0.9494\t\t0.9440\n",
      "ROC AUC Score\t\t1.0000\t\t0.9943\t\t0.9913\n"
     ]
    }
   ],
   "source": [
    "from sklearn.metrics import accuracy_score, precision_score, recall_score, f1_score, roc_auc_score\n",
    "\n",
    "def calculate_metrics(y_true, y_pred, y_prob):\n",
    "    accuracy = accuracy_score(y_true, y_pred)\n",
    "    precision = precision_score(y_true, y_pred)\n",
    "    recall = recall_score(y_true, y_pred)\n",
    "    f1 = f1_score(y_true, y_pred)\n",
    "    roc_auc = roc_auc_score(y_true, y_prob)\n",
    "    return accuracy, precision, recall, f1, roc_auc\n",
    "\n",
    "def print_metrics_table(train_metrics, val_metrics, test_metrics):\n",
    "    print(\"Metrics\\t\\t\\tTrain\\t\\tValidation\\tTest\")\n",
    "    print(\"Accuracy\\t\\t{:.4f}\\t\\t{:.4f}\\t\\t{:.4f}\".format(train_metrics[0], val_metrics[0], test_metrics[0]))\n",
    "    print(\"Precision\\t\\t{:.4f}\\t\\t{:.4f}\\t\\t{:.4f}\".format(train_metrics[1], val_metrics[1], test_metrics[1]))\n",
    "    print(\"Recall\\t\\t\\t{:.4f}\\t\\t{:.4f}\\t\\t{:.4f}\".format(train_metrics[2], val_metrics[2], test_metrics[2]))\n",
    "    print(\"F1 Score\\t\\t{:.4f}\\t\\t{:.4f}\\t\\t{:.4f}\".format(train_metrics[3], val_metrics[3], test_metrics[3]))\n",
    "    print(\"ROC AUC Score\\t\\t{:.4f}\\t\\t{:.4f}\\t\\t{:.4f}\".format(train_metrics[4], val_metrics[4], test_metrics[4]))\n",
    "\n",
    "# Assuming train_metrics, val_metrics, and test_metrics are tuples/lists containing metrics in the order: (accuracy, precision, recall, f1_score, roc_auc_score)\n",
    "train_metrics = (train_accuracy, train_precision, train_recall, train_f1, train_roc_auc)\n",
    "val_metrics = (val_accuracy, val_precision, val_recall, val_f1, val_roc_auc)\n",
    "test_metrics = (test_accuracy, test_precision, test_recall, test_f1, test_roc_auc)\n",
    "\n",
    "print_metrics_table(train_metrics, val_metrics, test_metrics)\n"
   ]
  },
  {
   "cell_type": "code",
   "execution_count": 15,
   "id": "8d6586fc-11af-4261-ad54-4af3ce60ee64",
   "metadata": {},
   "outputs": [
    {
     "name": "stdout",
     "output_type": "stream",
     "text": [
      "\u001b[1m1/1\u001b[0m \u001b[32m━━━━━━━━━━━━━━━━━━━━\u001b[0m\u001b[37m\u001b[0m \u001b[1m0s\u001b[0m 89ms/step\n",
      "Predicted class: leaf miner\n",
      "Confidence score: 0.99835443\n"
     ]
    }
   ],
   "source": [
    "from tensorflow.keras.preprocessing import image\n",
    "from tensorflow.keras.applications.mobilenet import preprocess_input\n",
    "import numpy as np\n",
    "\n",
    "\n",
    "# Define class names based on the unique labels found in your dataset\n",
    "class_names = sorted(os.listdir(train_folder))\n",
    "\n",
    "def predict_image_category(image_path, model, class_names):\n",
    "    img = image.load_img(image_path, target_size=(224, 224))\n",
    "    img_array = image.img_to_array(img)\n",
    "    img_array = np.expand_dims(img_array, axis=0)\n",
    "    img_array = preprocess_input(img_array)\n",
    "    preds = model.predict(img_array)\n",
    "    predicted_class = np.argmax(preds)\n",
    "    confidence_score = preds[0][predicted_class]\n",
    "    predicted_class_name = class_names[predicted_class]\n",
    "    return predicted_class_name, confidence_score\n",
    "\n",
    "# Example usage:\n",
    "image_path = 'C:/Users/KIIT/Downloads/Cashew/Cashew/test/leaf miner/leaf miner90_.jpg'\n",
    "predicted_class_name, confidence_score = predict_image_category(image_path, model, class_names)\n",
    "print(\"Predicted class:\", predicted_class_name)\n",
    "print(\"Confidence score:\", confidence_score)"
   ]
  },
  {
   "cell_type": "code",
   "execution_count": 14,
   "id": "2b0d410b-cb81-48fd-b950-d151a2b083d8",
   "metadata": {},
   "outputs": [
    {
     "name": "stdout",
     "output_type": "stream",
     "text": [
      "\u001b[1m1/1\u001b[0m \u001b[32m━━━━━━━━━━━━━━━━━━━━\u001b[0m\u001b[37m\u001b[0m \u001b[1m0s\u001b[0m 83ms/step\n",
      "Predicted class: leaf miner\n",
      "Confidence score: 0.973034\n"
     ]
    }
   ],
   "source": [
    "from tensorflow.keras.preprocessing import image\n",
    "from tensorflow.keras.applications.mobilenet import preprocess_input\n",
    "import numpy as np\n",
    "\n",
    "\n",
    "# Define class names based on the unique labels found in your dataset\n",
    "class_names = sorted(os.listdir(train_folder))\n",
    "\n",
    "def predict_image_category(image_path, model, class_names):\n",
    "    img = image.load_img(image_path, target_size=(224, 224))\n",
    "    img_array = image.img_to_array(img)\n",
    "    img_array = np.expand_dims(img_array, axis=0)\n",
    "    img_array = preprocess_input(img_array)\n",
    "    preds = model.predict(img_array)\n",
    "    predicted_class = np.argmax(preds)\n",
    "    confidence_score = preds[0][predicted_class]\n",
    "    predicted_class_name = class_names[predicted_class]\n",
    "    return predicted_class_name, confidence_score\n",
    "\n",
    "# Example usage:\n",
    "image_path = 'C:/Users/KIIT/Downloads/Cashew/Cashew/test/leaf miner/leaf miner1014_.jpg'\n",
    "predicted_class_name, confidence_score = predict_image_category(image_path, model, class_names)\n",
    "print(\"Predicted class:\", predicted_class_name)\n",
    "print(\"Confidence score:\", confidence_score)"
   ]
  },
  {
   "cell_type": "code",
   "execution_count": 18,
   "id": "8b712e31-797c-4dcd-a26e-11c85d274b80",
   "metadata": {},
   "outputs": [
    {
     "name": "stdout",
     "output_type": "stream",
     "text": [
      "\u001b[1m1/1\u001b[0m \u001b[32m━━━━━━━━━━━━━━━━━━━━\u001b[0m\u001b[37m\u001b[0m \u001b[1m0s\u001b[0m 70ms/step\n",
      "Predicted class: red rust\n",
      "Confidence score: 0.99999964\n"
     ]
    }
   ],
   "source": [
    "from tensorflow.keras.preprocessing import image\n",
    "from tensorflow.keras.applications.mobilenet import preprocess_input\n",
    "import numpy as np\n",
    "\n",
    "\n",
    "# Define class names based on the unique labels found in your dataset\n",
    "class_names = sorted(os.listdir(train_folder))\n",
    "\n",
    "def predict_image_category(image_path, model, class_names):\n",
    "    img = image.load_img(image_path, target_size=(224, 224))\n",
    "    img_array = image.img_to_array(img)\n",
    "    img_array = np.expand_dims(img_array, axis=0)\n",
    "    img_array = preprocess_input(img_array)\n",
    "    preds = model.predict(img_array)\n",
    "    predicted_class = np.argmax(preds)\n",
    "    confidence_score = preds[0][predicted_class]\n",
    "    predicted_class_name = class_names[predicted_class]\n",
    "    return predicted_class_name, confidence_score\n",
    "\n",
    "# Example usage:\n",
    "image_path = 'C:/Users/KIIT/Downloads/Cashew/Cashew/test/red rust/red rust960_.jpg'\n",
    "predicted_class_name, confidence_score = predict_image_category(image_path, model, class_names)\n",
    "print(\"Predicted class:\", predicted_class_name)\n",
    "print(\"Confidence score:\", confidence_score)"
   ]
  },
  {
   "cell_type": "code",
   "execution_count": 19,
   "id": "fe197c67-c42c-4f1c-9e08-aaa715750fe4",
   "metadata": {},
   "outputs": [
    {
     "name": "stdout",
     "output_type": "stream",
     "text": [
      "\u001b[1m1/1\u001b[0m \u001b[32m━━━━━━━━━━━━━━━━━━━━\u001b[0m\u001b[37m\u001b[0m \u001b[1m0s\u001b[0m 83ms/step\n",
      "Predicted class: red rust\n",
      "Confidence score: 1.0\n"
     ]
    }
   ],
   "source": [
    "from tensorflow.keras.preprocessing import image\n",
    "from tensorflow.keras.applications.mobilenet import preprocess_input\n",
    "import numpy as np\n",
    "\n",
    "\n",
    "# Define class names based on the unique labels found in your dataset\n",
    "class_names = sorted(os.listdir(train_folder))\n",
    "\n",
    "def predict_image_category(image_path, model, class_names):\n",
    "    img = image.load_img(image_path, target_size=(224, 224))\n",
    "    img_array = image.img_to_array(img)\n",
    "    img_array = np.expand_dims(img_array, axis=0)\n",
    "    img_array = preprocess_input(img_array)\n",
    "    preds = model.predict(img_array)\n",
    "    predicted_class = np.argmax(preds)\n",
    "    confidence_score = preds[0][predicted_class]\n",
    "    predicted_class_name = class_names[predicted_class]\n",
    "    return predicted_class_name, confidence_score\n",
    "\n",
    "# Example usage:\n",
    "image_path = 'C:/Users/KIIT/Downloads/Cashew/Cashew/test/red rust/red rust1618_.jpg'\n",
    "predicted_class_name, confidence_score = predict_image_category(image_path, model, class_names)\n",
    "print(\"Predicted class:\", predicted_class_name)\n",
    "print(\"Confidence score:\", confidence_score)"
   ]
  },
  {
   "cell_type": "code",
   "execution_count": 21,
   "id": "62e0a8c6-d805-4c43-8a9a-6a809161bb0a",
   "metadata": {},
   "outputs": [
    {
     "name": "stdout",
     "output_type": "stream",
     "text": [
      "\u001b[1m1/1\u001b[0m \u001b[32m━━━━━━━━━━━━━━━━━━━━\u001b[0m\u001b[37m\u001b[0m \u001b[1m0s\u001b[0m 71ms/step\n",
      "Predicted class: healthy\n",
      "Confidence score: 0.9999894\n"
     ]
    }
   ],
   "source": [
    "from tensorflow.keras.preprocessing import image\n",
    "from tensorflow.keras.applications.mobilenet import preprocess_input\n",
    "import numpy as np\n",
    "\n",
    "\n",
    "# Define class names based on the unique labels found in your dataset\n",
    "class_names = sorted(os.listdir(train_folder))\n",
    "\n",
    "def predict_image_category(image_path, model, class_names):\n",
    "    img = image.load_img(image_path, target_size=(224, 224))\n",
    "    img_array = image.img_to_array(img)\n",
    "    img_array = np.expand_dims(img_array, axis=0)\n",
    "    img_array = preprocess_input(img_array)\n",
    "    preds = model.predict(img_array)\n",
    "    predicted_class = np.argmax(preds)\n",
    "    confidence_score = preds[0][predicted_class]\n",
    "    predicted_class_name = class_names[predicted_class]\n",
    "    return predicted_class_name, confidence_score\n",
    "\n",
    "# Example usage:\n",
    "image_path = 'C:/Users/KIIT/Downloads/Cashew/Cashew/test/healthy/healthy111_.jpg'\n",
    "predicted_class_name, confidence_score = predict_image_category(image_path, model, class_names)\n",
    "print(\"Predicted class:\", predicted_class_name)\n",
    "print(\"Confidence score:\", confidence_score)"
   ]
  },
  {
   "cell_type": "code",
   "execution_count": 22,
   "id": "bc89d102-cda4-4a94-8778-5b8712eb1d0d",
   "metadata": {},
   "outputs": [
    {
     "name": "stdout",
     "output_type": "stream",
     "text": [
      "\u001b[1m1/1\u001b[0m \u001b[32m━━━━━━━━━━━━━━━━━━━━\u001b[0m\u001b[37m\u001b[0m \u001b[1m0s\u001b[0m 75ms/step\n",
      "Predicted class: healthy\n",
      "Confidence score: 0.7758966\n"
     ]
    }
   ],
   "source": [
    "from tensorflow.keras.preprocessing import image\n",
    "from tensorflow.keras.applications.mobilenet import preprocess_input\n",
    "import numpy as np\n",
    "\n",
    "\n",
    "# Define class names based on the unique labels found in your dataset\n",
    "class_names = sorted(os.listdir(train_folder))\n",
    "\n",
    "def predict_image_category(image_path, model, class_names):\n",
    "    img = image.load_img(image_path, target_size=(224, 224))\n",
    "    img_array = image.img_to_array(img)\n",
    "    img_array = np.expand_dims(img_array, axis=0)\n",
    "    img_array = preprocess_input(img_array)\n",
    "    preds = model.predict(img_array)\n",
    "    predicted_class = np.argmax(preds)\n",
    "    confidence_score = preds[0][predicted_class]\n",
    "    predicted_class_name = class_names[predicted_class]\n",
    "    return predicted_class_name, confidence_score\n",
    "\n",
    "# Example usage:\n",
    "image_path = 'C:/Users/KIIT/Downloads/Cashew/Cashew/test/healthy/healthy1266_.jpg'\n",
    "predicted_class_name, confidence_score = predict_image_category(image_path, model, class_names)\n",
    "print(\"Predicted class:\", predicted_class_name)\n",
    "print(\"Confidence score:\", confidence_score)"
   ]
  },
  {
   "cell_type": "code",
   "execution_count": 23,
   "id": "581d0377-34c2-44c3-ab3c-c14845571436",
   "metadata": {},
   "outputs": [
    {
     "name": "stdout",
     "output_type": "stream",
     "text": [
      "\u001b[1m1/1\u001b[0m \u001b[32m━━━━━━━━━━━━━━━━━━━━\u001b[0m\u001b[37m\u001b[0m \u001b[1m0s\u001b[0m 73ms/step\n",
      "Predicted class: anthracnose\n",
      "Confidence score: 0.9999999\n"
     ]
    }
   ],
   "source": [
    "from tensorflow.keras.preprocessing import image\n",
    "from tensorflow.keras.applications.mobilenet import preprocess_input\n",
    "import numpy as np\n",
    "\n",
    "\n",
    "# Define class names based on the unique labels found in your dataset\n",
    "class_names = sorted(os.listdir(train_folder))\n",
    "\n",
    "def predict_image_category(image_path, model, class_names):\n",
    "    img = image.load_img(image_path, target_size=(224, 224))\n",
    "    img_array = image.img_to_array(img)\n",
    "    img_array = np.expand_dims(img_array, axis=0)\n",
    "    img_array = preprocess_input(img_array)\n",
    "    preds = model.predict(img_array)\n",
    "    predicted_class = np.argmax(preds)\n",
    "    confidence_score = preds[0][predicted_class]\n",
    "    predicted_class_name = class_names[predicted_class]\n",
    "    return predicted_class_name, confidence_score\n",
    "\n",
    "# Example usage:\n",
    "image_path = 'C:/Users/KIIT/Downloads/Cashew/Cashew/test/anthracnose/anthracnose100_.jpg'\n",
    "predicted_class_name, confidence_score = predict_image_category(image_path, model, class_names)\n",
    "print(\"Predicted class:\", predicted_class_name)\n",
    "print(\"Confidence score:\", confidence_score)"
   ]
  },
  {
   "cell_type": "code",
   "execution_count": 25,
   "id": "c978eb89-d340-446d-b9a8-8aa067dbf39a",
   "metadata": {},
   "outputs": [
    {
     "name": "stdout",
     "output_type": "stream",
     "text": [
      "\u001b[1m1/1\u001b[0m \u001b[32m━━━━━━━━━━━━━━━━━━━━\u001b[0m\u001b[37m\u001b[0m \u001b[1m0s\u001b[0m 67ms/step\n",
      "Predicted class: anthracnose\n",
      "Confidence score: 0.9999995\n"
     ]
    }
   ],
   "source": [
    "from tensorflow.keras.preprocessing import image\n",
    "from tensorflow.keras.applications.mobilenet import preprocess_input\n",
    "import numpy as np\n",
    "\n",
    "\n",
    "# Define class names based on the unique labels found in your dataset\n",
    "class_names = sorted(os.listdir(train_folder))\n",
    "\n",
    "def predict_image_category(image_path, model, class_names):\n",
    "    img = image.load_img(image_path, target_size=(224, 224))\n",
    "    img_array = image.img_to_array(img)\n",
    "    img_array = np.expand_dims(img_array, axis=0)\n",
    "    img_array = preprocess_input(img_array)\n",
    "    preds = model.predict(img_array)\n",
    "    predicted_class = np.argmax(preds)\n",
    "    confidence_score = preds[0][predicted_class]\n",
    "    predicted_class_name = class_names[predicted_class]\n",
    "    return predicted_class_name, confidence_score\n",
    "\n",
    "# Example usage:\n",
    "image_path = 'C:/Users/KIIT/Downloads/Cashew/Cashew/test/anthracnose/anthracnose1560_.jpg'\n",
    "predicted_class_name, confidence_score = predict_image_category(image_path, model, class_names)\n",
    "print(\"Predicted class:\", predicted_class_name)\n",
    "print(\"Confidence score:\", confidence_score)"
   ]
  },
  {
   "cell_type": "code",
   "execution_count": 1,
   "id": "36d4c170-552c-4c16-82f2-26991f77252f",
   "metadata": {},
   "outputs": [
    {
     "ename": "NameError",
     "evalue": "name 'model' is not defined",
     "output_type": "error",
     "traceback": [
      "\u001b[1;31m---------------------------------------------------------------------------\u001b[0m",
      "\u001b[1;31mNameError\u001b[0m                                 Traceback (most recent call last)",
      "Cell \u001b[1;32mIn[1], line 2\u001b[0m\n\u001b[0;32m      1\u001b[0m \u001b[38;5;28;01mfrom\u001b[39;00m \u001b[38;5;21;01mtensorflow\u001b[39;00m\u001b[38;5;21;01m.\u001b[39;00m\u001b[38;5;21;01mkeras\u001b[39;00m\u001b[38;5;21;01m.\u001b[39;00m\u001b[38;5;21;01mmodels\u001b[39;00m \u001b[38;5;28;01mimport\u001b[39;00m save_model\n\u001b[1;32m----> 2\u001b[0m model\u001b[38;5;241m.\u001b[39msave(\u001b[38;5;124m'\u001b[39m\u001b[38;5;124mpath_to_save_model.h5\u001b[39m\u001b[38;5;124m'\u001b[39m)\n",
      "\u001b[1;31mNameError\u001b[0m: name 'model' is not defined"
     ]
    }
   ],
   "source": [
    "from tensorflow.keras.models import save_model\n",
    "model.save('path_to_save_model.h5')"
   ]
  },
  {
   "cell_type": "code",
   "execution_count": null,
   "id": "ee0107e8-a784-41f7-94a4-c5163046f62d",
   "metadata": {},
   "outputs": [],
   "source": []
  }
 ],
 "metadata": {
  "kernelspec": {
   "display_name": "Python 3 (ipykernel)",
   "language": "python",
   "name": "python3"
  },
  "language_info": {
   "codemirror_mode": {
    "name": "ipython",
    "version": 3
   },
   "file_extension": ".py",
   "mimetype": "text/x-python",
   "name": "python",
   "nbconvert_exporter": "python",
   "pygments_lexer": "ipython3",
   "version": "3.11.7"
  }
 },
 "nbformat": 4,
 "nbformat_minor": 5
}
